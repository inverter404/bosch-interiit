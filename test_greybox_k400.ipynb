{
  "nbformat": 4,
  "nbformat_minor": 0,
  "metadata": {
    "colab": {
      "name": "test_greybox_k400.ipynb",
      "provenance": [],
      "collapsed_sections": [],
      "include_colab_link": true
    },
    "kernelspec": {
      "name": "python3",
      "display_name": "Python 3"
    },
    "language_info": {
      "name": "python"
    },
    "accelerator": "GPU"
  },
  "cells": [
    {
      "cell_type": "markdown",
      "metadata": {
        "id": "view-in-github",
        "colab_type": "text"
      },
      "source": [
        "<a href=\"https://colab.research.google.com/github/inverter404/bosch-interiit/blob/main/test_greybox_k400.ipynb\" target=\"_parent\"><img src=\"https://colab.research.google.com/assets/colab-badge.svg\" alt=\"Open In Colab\"/></a>"
      ]
    },
    {
      "cell_type": "markdown",
      "source": [
        "Test folder is strutured as follows:\n",
        "\n",
        "    k400\n",
        "        -annotations\n",
        "            -testwithlabels.csv\n",
        "        -test\n",
        "            -vid1\n",
        "            -vid2\n",
        "            -vid3"
      ],
      "metadata": {
        "id": "MEjA3aZAb0sj"
      }
    },
    {
      "cell_type": "markdown",
      "source": [
        "**IMPORTING LIBRARIES**"
      ],
      "metadata": {
        "id": "r6jgBSoFY6G0"
      }
    },
    {
      "cell_type": "code",
      "source": [
        "import os\n",
        "import sys\n",
        "\n",
        "import cv2\n",
        "\n",
        "import numpy as np\n",
        "import pandas as pd\n",
        "from sklearn.preprocessing import OrdinalEncoder\n",
        "\n",
        "from tqdm import tqdm\n",
        "\n",
        "import torch\n",
        "import torch.nn.parallel\n",
        "from torch.nn.parallel import DistributedDataParallel\n",
        "import torch.distributed as dist\n",
        "import torch.backends.cudnn as cudnn\n",
        "import torch.optim\n",
        "from torch.nn.utils import clip_grad_norm_\n",
        "import torchvision\n",
        "import torch.nn as nn\n",
        "from torch.utils.data import Dataset,DataLoader\n"
      ],
      "metadata": {
        "id": "1JFl2WeQGKZH"
      },
      "execution_count": null,
      "outputs": []
    },
    {
      "cell_type": "markdown",
      "source": [
        "**DEFINING TDN MODEL**"
      ],
      "metadata": {
        "id": "PK3nirRIZGn4"
      }
    },
    {
      "cell_type": "code",
      "source": [
        "!git clone https://github.com/MCG-NJU/TDN "
      ],
      "metadata": {
        "id": "lXlM3DqfCzxw"
      },
      "execution_count": null,
      "outputs": []
    },
    {
      "cell_type": "code",
      "source": [
        "sys.path.append('/content/TDN')"
      ],
      "metadata": {
        "id": "PZIjMUszDBYL"
      },
      "execution_count": null,
      "outputs": []
    },
    {
      "cell_type": "code",
      "source": [
        "from ops.models import TSN"
      ],
      "metadata": {
        "id": "_8p4NE3dDITM"
      },
      "execution_count": null,
      "outputs": []
    },
    {
      "cell_type": "code",
      "source": [
        "thief_model = TSN(400,3,'RGB',                                  \n",
        "                base_model='resnet101',\n",
        "                consensus_type='avg',\n",
        "                dropout=0.5,\n",
        "                img_feature_dim=256,\n",
        "                partial_bn=False,\n",
        "                pretrain=False,\n",
        "                fc_lr5=False)"
      ],
      "metadata": {
        "id": "j7nTvYcVDK0g"
      },
      "execution_count": null,
      "outputs": []
    },
    {
      "cell_type": "markdown",
      "source": [
        "**LOADING THE LEARNED WEIGHTS**"
      ],
      "metadata": {
        "id": "NkYjuecaZhPu"
      }
    },
    {
      "cell_type": "code",
      "source": [
        "device=torch.device('cuda:0')\n",
        "checkpoint=torch.load('/content/drive/MyDrive/Action Recognition/weights_400',map_location='cuda:0')\n",
        "thief_model.load_state_dict(checkpoint['state_dict'])\n",
        "thief_model=thief_model.to(device)"
      ],
      "metadata": {
        "id": "y99iJJtnGKGh"
      },
      "execution_count": null,
      "outputs": []
    },
    {
      "cell_type": "markdown",
      "source": [
        "**LOADING THE CSV AND ENCODING THE LABELS**"
      ],
      "metadata": {
        "id": "_F_MIqUqGN3U"
      }
    },
    {
      "cell_type": "code",
      "source": [
        "meta=pd.read_csv('/content/drive/MyDrive/k400/annotations/testwithlabels.csv')"
      ],
      "metadata": {
        "id": "ARhg78hyD_8b"
      },
      "execution_count": null,
      "outputs": []
    },
    {
      "cell_type": "code",
      "source": [
        "meta"
      ],
      "metadata": {
        "colab": {
          "base_uri": "https://localhost:8080/",
          "height": 423
        },
        "id": "Dv2gw-NPHTze",
        "outputId": "df5d0c0c-ca07-4474-f14c-fb5fb3599a42"
      },
      "execution_count": null,
      "outputs": [
        {
          "output_type": "execute_result",
          "data": {
            "text/plain": [
              "                       label   youtube_id  time_start  time_end split   id\n",
              "0                sipping cup  --0l35AkU34          62        72  test  461\n",
              "1              using inhaler  --71SekUwOA           5        15  test  561\n",
              "2              climbing tree  --8YXc8iCt8           2        12  test  102\n",
              "3               washing feet  --GkrdYZ9Tc           0        10  test  574\n",
              "4           playing kickball  --NFqQGeShc          33        43  test  351\n",
              "...                      ...          ...         ...       ...   ...  ...\n",
              "56613     wading through mud  zzfd7GRadHc           0        10  test  567\n",
              "56614       popping balloons  zzkCQkQvy04          18        28  test  383\n",
              "56615      jumping into pool  zzpqbqLllzA           1        11  test  241\n",
              "56616  using bagging machine  zzz0X4NoFyA          60        70  test  559\n",
              "56617          juggling fire  zzzkS3amkWE         124       134  test  238\n",
              "\n",
              "[56618 rows x 6 columns]"
            ],
            "text/html": [
              "\n",
              "  <div id=\"df-5123e5d6-905a-4879-b86b-2bddb4f5ed5c\">\n",
              "    <div class=\"colab-df-container\">\n",
              "      <div>\n",
              "<style scoped>\n",
              "    .dataframe tbody tr th:only-of-type {\n",
              "        vertical-align: middle;\n",
              "    }\n",
              "\n",
              "    .dataframe tbody tr th {\n",
              "        vertical-align: top;\n",
              "    }\n",
              "\n",
              "    .dataframe thead th {\n",
              "        text-align: right;\n",
              "    }\n",
              "</style>\n",
              "<table border=\"1\" class=\"dataframe\">\n",
              "  <thead>\n",
              "    <tr style=\"text-align: right;\">\n",
              "      <th></th>\n",
              "      <th>label</th>\n",
              "      <th>youtube_id</th>\n",
              "      <th>time_start</th>\n",
              "      <th>time_end</th>\n",
              "      <th>split</th>\n",
              "      <th>id</th>\n",
              "    </tr>\n",
              "  </thead>\n",
              "  <tbody>\n",
              "    <tr>\n",
              "      <th>0</th>\n",
              "      <td>sipping cup</td>\n",
              "      <td>--0l35AkU34</td>\n",
              "      <td>62</td>\n",
              "      <td>72</td>\n",
              "      <td>test</td>\n",
              "      <td>461</td>\n",
              "    </tr>\n",
              "    <tr>\n",
              "      <th>1</th>\n",
              "      <td>using inhaler</td>\n",
              "      <td>--71SekUwOA</td>\n",
              "      <td>5</td>\n",
              "      <td>15</td>\n",
              "      <td>test</td>\n",
              "      <td>561</td>\n",
              "    </tr>\n",
              "    <tr>\n",
              "      <th>2</th>\n",
              "      <td>climbing tree</td>\n",
              "      <td>--8YXc8iCt8</td>\n",
              "      <td>2</td>\n",
              "      <td>12</td>\n",
              "      <td>test</td>\n",
              "      <td>102</td>\n",
              "    </tr>\n",
              "    <tr>\n",
              "      <th>3</th>\n",
              "      <td>washing feet</td>\n",
              "      <td>--GkrdYZ9Tc</td>\n",
              "      <td>0</td>\n",
              "      <td>10</td>\n",
              "      <td>test</td>\n",
              "      <td>574</td>\n",
              "    </tr>\n",
              "    <tr>\n",
              "      <th>4</th>\n",
              "      <td>playing kickball</td>\n",
              "      <td>--NFqQGeShc</td>\n",
              "      <td>33</td>\n",
              "      <td>43</td>\n",
              "      <td>test</td>\n",
              "      <td>351</td>\n",
              "    </tr>\n",
              "    <tr>\n",
              "      <th>...</th>\n",
              "      <td>...</td>\n",
              "      <td>...</td>\n",
              "      <td>...</td>\n",
              "      <td>...</td>\n",
              "      <td>...</td>\n",
              "      <td>...</td>\n",
              "    </tr>\n",
              "    <tr>\n",
              "      <th>56613</th>\n",
              "      <td>wading through mud</td>\n",
              "      <td>zzfd7GRadHc</td>\n",
              "      <td>0</td>\n",
              "      <td>10</td>\n",
              "      <td>test</td>\n",
              "      <td>567</td>\n",
              "    </tr>\n",
              "    <tr>\n",
              "      <th>56614</th>\n",
              "      <td>popping balloons</td>\n",
              "      <td>zzkCQkQvy04</td>\n",
              "      <td>18</td>\n",
              "      <td>28</td>\n",
              "      <td>test</td>\n",
              "      <td>383</td>\n",
              "    </tr>\n",
              "    <tr>\n",
              "      <th>56615</th>\n",
              "      <td>jumping into pool</td>\n",
              "      <td>zzpqbqLllzA</td>\n",
              "      <td>1</td>\n",
              "      <td>11</td>\n",
              "      <td>test</td>\n",
              "      <td>241</td>\n",
              "    </tr>\n",
              "    <tr>\n",
              "      <th>56616</th>\n",
              "      <td>using bagging machine</td>\n",
              "      <td>zzz0X4NoFyA</td>\n",
              "      <td>60</td>\n",
              "      <td>70</td>\n",
              "      <td>test</td>\n",
              "      <td>559</td>\n",
              "    </tr>\n",
              "    <tr>\n",
              "      <th>56617</th>\n",
              "      <td>juggling fire</td>\n",
              "      <td>zzzkS3amkWE</td>\n",
              "      <td>124</td>\n",
              "      <td>134</td>\n",
              "      <td>test</td>\n",
              "      <td>238</td>\n",
              "    </tr>\n",
              "  </tbody>\n",
              "</table>\n",
              "<p>56618 rows × 6 columns</p>\n",
              "</div>\n",
              "      <button class=\"colab-df-convert\" onclick=\"convertToInteractive('df-5123e5d6-905a-4879-b86b-2bddb4f5ed5c')\"\n",
              "              title=\"Convert this dataframe to an interactive table.\"\n",
              "              style=\"display:none;\">\n",
              "        \n",
              "  <svg xmlns=\"http://www.w3.org/2000/svg\" height=\"24px\"viewBox=\"0 0 24 24\"\n",
              "       width=\"24px\">\n",
              "    <path d=\"M0 0h24v24H0V0z\" fill=\"none\"/>\n",
              "    <path d=\"M18.56 5.44l.94 2.06.94-2.06 2.06-.94-2.06-.94-.94-2.06-.94 2.06-2.06.94zm-11 1L8.5 8.5l.94-2.06 2.06-.94-2.06-.94L8.5 2.5l-.94 2.06-2.06.94zm10 10l.94 2.06.94-2.06 2.06-.94-2.06-.94-.94-2.06-.94 2.06-2.06.94z\"/><path d=\"M17.41 7.96l-1.37-1.37c-.4-.4-.92-.59-1.43-.59-.52 0-1.04.2-1.43.59L10.3 9.45l-7.72 7.72c-.78.78-.78 2.05 0 2.83L4 21.41c.39.39.9.59 1.41.59.51 0 1.02-.2 1.41-.59l7.78-7.78 2.81-2.81c.8-.78.8-2.07 0-2.86zM5.41 20L4 18.59l7.72-7.72 1.47 1.35L5.41 20z\"/>\n",
              "  </svg>\n",
              "      </button>\n",
              "      \n",
              "  <style>\n",
              "    .colab-df-container {\n",
              "      display:flex;\n",
              "      flex-wrap:wrap;\n",
              "      gap: 12px;\n",
              "    }\n",
              "\n",
              "    .colab-df-convert {\n",
              "      background-color: #E8F0FE;\n",
              "      border: none;\n",
              "      border-radius: 50%;\n",
              "      cursor: pointer;\n",
              "      display: none;\n",
              "      fill: #1967D2;\n",
              "      height: 32px;\n",
              "      padding: 0 0 0 0;\n",
              "      width: 32px;\n",
              "    }\n",
              "\n",
              "    .colab-df-convert:hover {\n",
              "      background-color: #E2EBFA;\n",
              "      box-shadow: 0px 1px 2px rgba(60, 64, 67, 0.3), 0px 1px 3px 1px rgba(60, 64, 67, 0.15);\n",
              "      fill: #174EA6;\n",
              "    }\n",
              "\n",
              "    [theme=dark] .colab-df-convert {\n",
              "      background-color: #3B4455;\n",
              "      fill: #D2E3FC;\n",
              "    }\n",
              "\n",
              "    [theme=dark] .colab-df-convert:hover {\n",
              "      background-color: #434B5C;\n",
              "      box-shadow: 0px 1px 3px 1px rgba(0, 0, 0, 0.15);\n",
              "      filter: drop-shadow(0px 1px 2px rgba(0, 0, 0, 0.3));\n",
              "      fill: #FFFFFF;\n",
              "    }\n",
              "  </style>\n",
              "\n",
              "      <script>\n",
              "        const buttonEl =\n",
              "          document.querySelector('#df-5123e5d6-905a-4879-b86b-2bddb4f5ed5c button.colab-df-convert');\n",
              "        buttonEl.style.display =\n",
              "          google.colab.kernel.accessAllowed ? 'block' : 'none';\n",
              "\n",
              "        async function convertToInteractive(key) {\n",
              "          const element = document.querySelector('#df-5123e5d6-905a-4879-b86b-2bddb4f5ed5c');\n",
              "          const dataTable =\n",
              "            await google.colab.kernel.invokeFunction('convertToInteractive',\n",
              "                                                     [key], {});\n",
              "          if (!dataTable) return;\n",
              "\n",
              "          const docLinkHtml = 'Like what you see? Visit the ' +\n",
              "            '<a target=\"_blank\" href=https://colab.research.google.com/notebooks/data_table.ipynb>data table notebook</a>'\n",
              "            + ' to learn more about interactive tables.';\n",
              "          element.innerHTML = '';\n",
              "          dataTable['output_type'] = 'display_data';\n",
              "          await google.colab.output.renderOutput(dataTable, element);\n",
              "          const docLink = document.createElement('div');\n",
              "          docLink.innerHTML = docLinkHtml;\n",
              "          element.appendChild(docLink);\n",
              "        }\n",
              "      </script>\n",
              "    </div>\n",
              "  </div>\n",
              "  "
            ]
          },
          "metadata": {},
          "execution_count": 11
        }
      ]
    },
    {
      "cell_type": "code",
      "source": [
        "oe=OrdinalEncoder()\n",
        "oe.fit(meta[['label']])\n",
        "meta[['label']]=oe.transform(meta[['label']])\n",
        "meta['label']=meta['label'].astype('int')"
      ],
      "metadata": {
        "id": "zP08DvfnEO_i"
      },
      "execution_count": null,
      "outputs": []
    },
    {
      "cell_type": "code",
      "source": [
        "meta"
      ],
      "metadata": {
        "colab": {
          "base_uri": "https://localhost:8080/",
          "height": 423
        },
        "id": "MxYq9o5mHX9j",
        "outputId": "89b99454-65fe-4844-88fc-926db322b03c"
      },
      "execution_count": null,
      "outputs": [
        {
          "output_type": "execute_result",
          "data": {
            "text/plain": [
              "       label   youtube_id  time_start  time_end split   id\n",
              "0        461  --0l35AkU34          62        72  test  461\n",
              "1        561  --71SekUwOA           5        15  test  561\n",
              "2        102  --8YXc8iCt8           2        12  test  102\n",
              "3        574  --GkrdYZ9Tc           0        10  test  574\n",
              "4        351  --NFqQGeShc          33        43  test  351\n",
              "...      ...          ...         ...       ...   ...  ...\n",
              "56613    567  zzfd7GRadHc           0        10  test  567\n",
              "56614    383  zzkCQkQvy04          18        28  test  383\n",
              "56615    241  zzpqbqLllzA           1        11  test  241\n",
              "56616    559  zzz0X4NoFyA          60        70  test  559\n",
              "56617    238  zzzkS3amkWE         124       134  test  238\n",
              "\n",
              "[56618 rows x 6 columns]"
            ],
            "text/html": [
              "\n",
              "  <div id=\"df-e109c34e-6ce5-45a7-9db6-c93e1932b368\">\n",
              "    <div class=\"colab-df-container\">\n",
              "      <div>\n",
              "<style scoped>\n",
              "    .dataframe tbody tr th:only-of-type {\n",
              "        vertical-align: middle;\n",
              "    }\n",
              "\n",
              "    .dataframe tbody tr th {\n",
              "        vertical-align: top;\n",
              "    }\n",
              "\n",
              "    .dataframe thead th {\n",
              "        text-align: right;\n",
              "    }\n",
              "</style>\n",
              "<table border=\"1\" class=\"dataframe\">\n",
              "  <thead>\n",
              "    <tr style=\"text-align: right;\">\n",
              "      <th></th>\n",
              "      <th>label</th>\n",
              "      <th>youtube_id</th>\n",
              "      <th>time_start</th>\n",
              "      <th>time_end</th>\n",
              "      <th>split</th>\n",
              "      <th>id</th>\n",
              "    </tr>\n",
              "  </thead>\n",
              "  <tbody>\n",
              "    <tr>\n",
              "      <th>0</th>\n",
              "      <td>461</td>\n",
              "      <td>--0l35AkU34</td>\n",
              "      <td>62</td>\n",
              "      <td>72</td>\n",
              "      <td>test</td>\n",
              "      <td>461</td>\n",
              "    </tr>\n",
              "    <tr>\n",
              "      <th>1</th>\n",
              "      <td>561</td>\n",
              "      <td>--71SekUwOA</td>\n",
              "      <td>5</td>\n",
              "      <td>15</td>\n",
              "      <td>test</td>\n",
              "      <td>561</td>\n",
              "    </tr>\n",
              "    <tr>\n",
              "      <th>2</th>\n",
              "      <td>102</td>\n",
              "      <td>--8YXc8iCt8</td>\n",
              "      <td>2</td>\n",
              "      <td>12</td>\n",
              "      <td>test</td>\n",
              "      <td>102</td>\n",
              "    </tr>\n",
              "    <tr>\n",
              "      <th>3</th>\n",
              "      <td>574</td>\n",
              "      <td>--GkrdYZ9Tc</td>\n",
              "      <td>0</td>\n",
              "      <td>10</td>\n",
              "      <td>test</td>\n",
              "      <td>574</td>\n",
              "    </tr>\n",
              "    <tr>\n",
              "      <th>4</th>\n",
              "      <td>351</td>\n",
              "      <td>--NFqQGeShc</td>\n",
              "      <td>33</td>\n",
              "      <td>43</td>\n",
              "      <td>test</td>\n",
              "      <td>351</td>\n",
              "    </tr>\n",
              "    <tr>\n",
              "      <th>...</th>\n",
              "      <td>...</td>\n",
              "      <td>...</td>\n",
              "      <td>...</td>\n",
              "      <td>...</td>\n",
              "      <td>...</td>\n",
              "      <td>...</td>\n",
              "    </tr>\n",
              "    <tr>\n",
              "      <th>56613</th>\n",
              "      <td>567</td>\n",
              "      <td>zzfd7GRadHc</td>\n",
              "      <td>0</td>\n",
              "      <td>10</td>\n",
              "      <td>test</td>\n",
              "      <td>567</td>\n",
              "    </tr>\n",
              "    <tr>\n",
              "      <th>56614</th>\n",
              "      <td>383</td>\n",
              "      <td>zzkCQkQvy04</td>\n",
              "      <td>18</td>\n",
              "      <td>28</td>\n",
              "      <td>test</td>\n",
              "      <td>383</td>\n",
              "    </tr>\n",
              "    <tr>\n",
              "      <th>56615</th>\n",
              "      <td>241</td>\n",
              "      <td>zzpqbqLllzA</td>\n",
              "      <td>1</td>\n",
              "      <td>11</td>\n",
              "      <td>test</td>\n",
              "      <td>241</td>\n",
              "    </tr>\n",
              "    <tr>\n",
              "      <th>56616</th>\n",
              "      <td>559</td>\n",
              "      <td>zzz0X4NoFyA</td>\n",
              "      <td>60</td>\n",
              "      <td>70</td>\n",
              "      <td>test</td>\n",
              "      <td>559</td>\n",
              "    </tr>\n",
              "    <tr>\n",
              "      <th>56617</th>\n",
              "      <td>238</td>\n",
              "      <td>zzzkS3amkWE</td>\n",
              "      <td>124</td>\n",
              "      <td>134</td>\n",
              "      <td>test</td>\n",
              "      <td>238</td>\n",
              "    </tr>\n",
              "  </tbody>\n",
              "</table>\n",
              "<p>56618 rows × 6 columns</p>\n",
              "</div>\n",
              "      <button class=\"colab-df-convert\" onclick=\"convertToInteractive('df-e109c34e-6ce5-45a7-9db6-c93e1932b368')\"\n",
              "              title=\"Convert this dataframe to an interactive table.\"\n",
              "              style=\"display:none;\">\n",
              "        \n",
              "  <svg xmlns=\"http://www.w3.org/2000/svg\" height=\"24px\"viewBox=\"0 0 24 24\"\n",
              "       width=\"24px\">\n",
              "    <path d=\"M0 0h24v24H0V0z\" fill=\"none\"/>\n",
              "    <path d=\"M18.56 5.44l.94 2.06.94-2.06 2.06-.94-2.06-.94-.94-2.06-.94 2.06-2.06.94zm-11 1L8.5 8.5l.94-2.06 2.06-.94-2.06-.94L8.5 2.5l-.94 2.06-2.06.94zm10 10l.94 2.06.94-2.06 2.06-.94-2.06-.94-.94-2.06-.94 2.06-2.06.94z\"/><path d=\"M17.41 7.96l-1.37-1.37c-.4-.4-.92-.59-1.43-.59-.52 0-1.04.2-1.43.59L10.3 9.45l-7.72 7.72c-.78.78-.78 2.05 0 2.83L4 21.41c.39.39.9.59 1.41.59.51 0 1.02-.2 1.41-.59l7.78-7.78 2.81-2.81c.8-.78.8-2.07 0-2.86zM5.41 20L4 18.59l7.72-7.72 1.47 1.35L5.41 20z\"/>\n",
              "  </svg>\n",
              "      </button>\n",
              "      \n",
              "  <style>\n",
              "    .colab-df-container {\n",
              "      display:flex;\n",
              "      flex-wrap:wrap;\n",
              "      gap: 12px;\n",
              "    }\n",
              "\n",
              "    .colab-df-convert {\n",
              "      background-color: #E8F0FE;\n",
              "      border: none;\n",
              "      border-radius: 50%;\n",
              "      cursor: pointer;\n",
              "      display: none;\n",
              "      fill: #1967D2;\n",
              "      height: 32px;\n",
              "      padding: 0 0 0 0;\n",
              "      width: 32px;\n",
              "    }\n",
              "\n",
              "    .colab-df-convert:hover {\n",
              "      background-color: #E2EBFA;\n",
              "      box-shadow: 0px 1px 2px rgba(60, 64, 67, 0.3), 0px 1px 3px 1px rgba(60, 64, 67, 0.15);\n",
              "      fill: #174EA6;\n",
              "    }\n",
              "\n",
              "    [theme=dark] .colab-df-convert {\n",
              "      background-color: #3B4455;\n",
              "      fill: #D2E3FC;\n",
              "    }\n",
              "\n",
              "    [theme=dark] .colab-df-convert:hover {\n",
              "      background-color: #434B5C;\n",
              "      box-shadow: 0px 1px 3px 1px rgba(0, 0, 0, 0.15);\n",
              "      filter: drop-shadow(0px 1px 2px rgba(0, 0, 0, 0.3));\n",
              "      fill: #FFFFFF;\n",
              "    }\n",
              "  </style>\n",
              "\n",
              "      <script>\n",
              "        const buttonEl =\n",
              "          document.querySelector('#df-e109c34e-6ce5-45a7-9db6-c93e1932b368 button.colab-df-convert');\n",
              "        buttonEl.style.display =\n",
              "          google.colab.kernel.accessAllowed ? 'block' : 'none';\n",
              "\n",
              "        async function convertToInteractive(key) {\n",
              "          const element = document.querySelector('#df-e109c34e-6ce5-45a7-9db6-c93e1932b368');\n",
              "          const dataTable =\n",
              "            await google.colab.kernel.invokeFunction('convertToInteractive',\n",
              "                                                     [key], {});\n",
              "          if (!dataTable) return;\n",
              "\n",
              "          const docLinkHtml = 'Like what you see? Visit the ' +\n",
              "            '<a target=\"_blank\" href=https://colab.research.google.com/notebooks/data_table.ipynb>data table notebook</a>'\n",
              "            + ' to learn more about interactive tables.';\n",
              "          element.innerHTML = '';\n",
              "          dataTable['output_type'] = 'display_data';\n",
              "          await google.colab.output.renderOutput(dataTable, element);\n",
              "          const docLink = document.createElement('div');\n",
              "          docLink.innerHTML = docLinkHtml;\n",
              "          element.appendChild(docLink);\n",
              "        }\n",
              "      </script>\n",
              "    </div>\n",
              "  </div>\n",
              "  "
            ]
          },
          "metadata": {},
          "execution_count": 13
        }
      ]
    },
    {
      "cell_type": "markdown",
      "source": [
        "**STORING VIDEO PATHS AND CORRESPONDING LABELS**"
      ],
      "metadata": {
        "id": "Nc1nXlWnFOkF"
      }
    },
    {
      "cell_type": "code",
      "source": [
        "video_path=[]\n",
        "labels=[]\n",
        "'''\n",
        "labels of videos are found and stored in the labels list\n",
        "'''\n",
        "for name in tqdm(os.listdir('/content/drive/MyDrive/k400/test/')):\n",
        "  nam=name[0:11]\n",
        "  dir='/content/drive/MyDrive/k400/test/'+name\n",
        "  lab=meta.loc[(meta['youtube_id']==nam)]      # searching for label of video in meta using the youtube_id\n",
        "  vid=cv2.VideoCapture(dir)\n",
        "  length=(int(vid.get(cv2.CAP_PROP_FRAME_COUNT)))\n",
        "  if(length<17):\n",
        "    continue\n",
        "  elif(lab.empty):\n",
        "    continue\n",
        "  lab=lab.head(1)\n",
        "  classe=lab['label'].item()\n",
        "  labels.append(classe)\n",
        "  video_path.append(dir)\n"
      ],
      "metadata": {
        "id": "Js0nA8u7DOgd"
      },
      "execution_count": null,
      "outputs": []
    },
    {
      "cell_type": "markdown",
      "source": [
        "**DATASET (TAKES 16 EQUALLY SPACED FRAMES FROM VIDEOS)**"
      ],
      "metadata": {
        "id": "RsNJeVqBbFor"
      }
    },
    {
      "cell_type": "code",
      "source": [
        "class Vid_Dataset(Dataset):\n",
        "    '''\n",
        "    creates dataset of videos from k400 folder\n",
        "    16 frames are extracted from each video\n",
        "    labels are the ground truth\n",
        "    '''\n",
        "    def __init__(self,video_path,labels):\n",
        "        self.n_samples=labels.shape[0]\n",
        "        self.video_path=video_path\n",
        "        self.labels=labels\n",
        "    def __getitem__(self, index):\n",
        "        vid=cv2.VideoCapture(self.video_path[index])\n",
        "        array=[]\n",
        "        success = 1\n",
        "        count=0\n",
        "        cnt=0\n",
        "        length=(int(vid.get(cv2.CAP_PROP_FRAME_COUNT)))//16\n",
        "        while success:\n",
        "            success, image = vid.read()\n",
        "            count += 1\n",
        "            if(count%length==0 and cnt<16):\n",
        "                cnt+=1\n",
        "                array.append(np.array(image))\n",
        "        array=np.array(array)\n",
        "        array=array.astype('float32')\n",
        "        sample=(array,self.labels[index])\n",
        "        return sample\n",
        "    def __len__(self):\n",
        "        return self.n_samples"
      ],
      "metadata": {
        "id": "Bj3FxeS8FDhC"
      },
      "execution_count": null,
      "outputs": []
    },
    {
      "cell_type": "markdown",
      "source": [
        "**MAKING DATALOADER**"
      ],
      "metadata": {
        "id": "PgJKgpybbbtc"
      }
    },
    {
      "cell_type": "code",
      "source": [
        "dataset2=Vid_Dataset(video_path,labels)\n",
        "val_loader=DataLoader(dataset=dataset2,batch_size=1,shuffle=False)"
      ],
      "metadata": {
        "id": "MB4CF8MgF4iW"
      },
      "execution_count": null,
      "outputs": []
    },
    {
      "cell_type": "markdown",
      "source": [
        "**TEST FUNCTION**"
      ],
      "metadata": {
        "id": "Y5D8EjTfbgk6"
      }
    },
    {
      "cell_type": "code",
      "source": [
        "def test(model):\n",
        "    '''\n",
        "    prints top-5 accuracy after every 100 videos \n",
        "    and finally prints the overall top-5 accuracy\n",
        "    '''\n",
        "    thief_model.eval()\n",
        "    with torch.no_grad():\n",
        "        cnt=0\n",
        "        num=0\n",
        "        for inputs,labels in tqdm((val_loader)):\n",
        "            inputs=np.squeeze(inputs)\n",
        "            inputs=inputs.permute(3,0,1,2)\n",
        "            inputs=inputs.to(device)\n",
        "\n",
        "            labels=labels.to(device)\n",
        "            out=model(inputs,no_reshape=True)\n",
        "            pred=torch.argsort(out[0],descending=True)\n",
        "            for j in range(5):\n",
        "                if(pred[j].item()==labels[0].item()):\n",
        "                    cnt+=1\n",
        "                    break\n",
        "            num+=1\n",
        "            if(num%100==0):\n",
        "                print(f'Validation Accuracy: {(cnt/num)*100}')\n",
        "    print(f'Final Validation Accuracy: {(cnt/num)*100}')"
      ],
      "metadata": {
        "id": "8c1ncv5mFq0Y"
      },
      "execution_count": null,
      "outputs": []
    },
    {
      "cell_type": "markdown",
      "source": [
        "**P1 GREYBOX ACCURACY**"
      ],
      "metadata": {
        "id": "4gQJ2Jm2bq4L"
      }
    },
    {
      "cell_type": "code",
      "source": [
        "test(thief_model)"
      ],
      "metadata": {
        "id": "mKiD2zZHLsuo"
      },
      "execution_count": null,
      "outputs": []
    }
  ]
}