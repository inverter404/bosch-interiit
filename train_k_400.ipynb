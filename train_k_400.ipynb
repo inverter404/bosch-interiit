{
  "cells": [
    {
      "cell_type": "code",
      "source": [
        "from google.colab import drive\n",
        "drive.mount('/content/drive')"
      ],
      "metadata": {
        "id": "Pd3amK14EJZo"
      },
      "execution_count": null,
      "outputs": []
    },
    {
      "cell_type": "markdown",
      "source": [
        "**Installing required Libraries**"
      ],
      "metadata": {
        "id": "656EO43TFODX"
      }
    },
    {
      "cell_type": "code",
      "source": [
        "!pip install -q --upgrade --no-cache-dir gdown\n",
        "!pip install scikit-video\n",
        "import gdown"
      ],
      "metadata": {
        "id": "u0MhVjsD7PoM"
      },
      "execution_count": null,
      "outputs": []
    },
    {
      "cell_type": "markdown",
      "source": [
        "**Importing Libraries**"
      ],
      "metadata": {
        "id": "lR-ZQB7lAgRr"
      }
    },
    {
      "cell_type": "code",
      "execution_count": null,
      "metadata": {
        "id": "FUFInCRMhr1s"
      },
      "outputs": [],
      "source": [
        "import os\n",
        "import torch\n",
        "import torch.nn.parallel\n",
        "from torch.nn.parallel import DistributedDataParallel\n",
        "import torch.distributed as dist\n",
        "import torch.backends.cudnn as cudnn\n",
        "import torch.optim\n",
        "from torch.nn.utils import clip_grad_norm_\n",
        "from torch.utils.data import *\n",
        "import torchvision\n",
        "import torch.nn as nn\n",
        "import skvideo.io\n",
        "import cv2\n",
        "import numpy as np\n",
        "from torch.utils.data import Dataset,DataLoader\n",
        "from PIL import Image\n",
        "from tqdm import tqdm\n",
        "from torchsummary import summary"
      ]
    },
    {
      "cell_type": "code",
      "source": [
        "!rm -rf /content/pre-trained/\n",
        "os.mkdir('/content/pre-trained')\n",
        "!cd '/content/pre-trained/'\n",
        "!gdown --id 1d9KUOPsmOX_Z9YsxPZ96Juee8dBs-qT5"
      ],
      "metadata": {
        "colab": {
          "base_uri": "https://localhost:8080/"
        },
        "id": "-wjxB5Yq58NE",
        "outputId": "12fdb114-33a2-42d8-95c5-dee9dbf86736"
      },
      "execution_count": null,
      "outputs": [
        {
          "output_type": "stream",
          "name": "stdout",
          "text": [
            "/usr/local/lib/python3.7/dist-packages/gdown/cli.py:131: FutureWarning: Option `--id` was deprecated in version 4.3.1 and will be removed in 5.0. You don't need to pass it anymore to use a file ID.\n",
            "  category=FutureWarning,\n",
            "Downloading...\n",
            "From: https://drive.google.com/uc?id=1d9KUOPsmOX_Z9YsxPZ96Juee8dBs-qT5\n",
            "To: /content/best.pth.tar\n",
            "100% 176M/176M [00:02<00:00, 84.8MB/s]\n"
          ]
        }
      ]
    },
    {
      "cell_type": "code",
      "source": [
        "!git clone https://github.com/MCG-NJU/TDN"
      ],
      "metadata": {
        "colab": {
          "base_uri": "https://localhost:8080/"
        },
        "id": "GSfgiE-x79Sq",
        "outputId": "c90887ec-b50f-4408-f59a-a536406fd08f"
      },
      "execution_count": null,
      "outputs": [
        {
          "output_type": "stream",
          "name": "stdout",
          "text": [
            "fatal: destination path 'TDN' already exists and is not an empty directory.\n"
          ]
        }
      ]
    },
    {
      "cell_type": "code",
      "execution_count": null,
      "metadata": {
        "id": "6WpSPZBzCKK1"
      },
      "outputs": [],
      "source": [
        "import sys\n",
        "sys.path.append('/content/TDN/')"
      ]
    },
    {
      "cell_type": "code",
      "execution_count": null,
      "metadata": {
        "id": "WBc-Djsp0tjx"
      },
      "outputs": [],
      "source": [
        "from ops.models import TSN"
      ]
    },
    {
      "cell_type": "markdown",
      "source": [
        "**Loading Model**"
      ],
      "metadata": {
        "id": "jlE4UEEeG_UA"
      }
    },
    {
      "cell_type": "code",
      "execution_count": null,
      "metadata": {
        "id": "xjISLGg6zn3q"
      },
      "outputs": [],
      "source": [
        "model=torch.load(\"/content/best.pth.tar\")"
      ]
    },
    {
      "cell_type": "markdown",
      "source": [
        "**Defining Thief Model**"
      ],
      "metadata": {
        "id": "RLXbECPfDt2P"
      }
    },
    {
      "cell_type": "code",
      "execution_count": null,
      "metadata": {
        "colab": {
          "base_uri": "https://localhost:8080/",
          "height": 257,
          "referenced_widgets": [
            "83a00386f71348a98db30819071ce6bb",
            "2e0b2fd3d4854976b1b1ec7c0854abec",
            "f98b675ee2ae46de8029cd0bc209226d",
            "9bb6ac3baaa94f31b4ae50dff65e39c2",
            "475e46ff6ebb45558c6b7454d5580ca9",
            "11deb79a887941f79a6525f98e4b1be3",
            "3507db67645e403294e0824cf2e40d97",
            "f60d13bf47bc4c9ca8de4d32bae21959",
            "00c2bb070b844b57834a145c3a33caed",
            "cca73f8d80ae4813a609a2b832c50e3d",
            "1d34dfa79f434086b5d8f4ef9b664d01"
          ]
        },
        "id": "7rU29RWuCAuy",
        "outputId": "21756a60-8279-49c0-9fae-eab8574729a3"
      },
      "outputs": [
        {
          "output_type": "stream",
          "name": "stdout",
          "text": [
            "\n",
            "    Initializing TSN with base model: resnet101.\n",
            "    TSN Configurations:\n",
            "        input_modality:     RGB\n",
            "        num_segments:       3\n",
            "        new_length:         1\n",
            "        consensus_module:   avg\n",
            "        dropout_ratio:      0.5\n",
            "        img_feature_dim:    256\n",
            "            \n",
            "=> base model: resnet101\n"
          ]
        },
        {
          "output_type": "stream",
          "name": "stderr",
          "text": [
            "Downloading: \"http://data.lip6.fr/cadene/pretrainedmodels/resnet101-5d3b4d8f.pth\" to /root/.cache/torch/hub/checkpoints/resnet101-5d3b4d8f.pth\n"
          ]
        },
        {
          "output_type": "display_data",
          "data": {
            "text/plain": [
              "  0%|          | 0.00/170M [00:00<?, ?B/s]"
            ],
            "application/vnd.jupyter.widget-view+json": {
              "version_major": 2,
              "version_minor": 0,
              "model_id": "83a00386f71348a98db30819071ce6bb"
            }
          },
          "metadata": {}
        }
      ],
      "source": [
        "thief_model = TSN(174,3,'RGB',\n",
        "                base_model='resnet101',\n",
        "                consensus_type='avg',\n",
        "                dropout=0.5,\n",
        "                img_feature_dim=256,\n",
        "                partial_bn=False,\n",
        "                pretrain=False,\n",
        "                fc_lr5=False)"
      ]
    },
    {
      "cell_type": "code",
      "execution_count": null,
      "metadata": {
        "id": "rIcFm6qtH0d2"
      },
      "outputs": [],
      "source": [
        "model=model['state_dict']"
      ]
    },
    {
      "cell_type": "code",
      "execution_count": null,
      "metadata": {
        "id": "d91OJgR5OS3a"
      },
      "outputs": [],
      "source": [
        "state={}"
      ]
    },
    {
      "cell_type": "code",
      "execution_count": null,
      "metadata": {
        "id": "e1A0TfviJn4r"
      },
      "outputs": [],
      "source": [
        "for (key,value) in model.items():\n",
        "  state[key[7:]]=model[key]"
      ]
    },
    {
      "cell_type": "code",
      "execution_count": null,
      "metadata": {
        "colab": {
          "base_uri": "https://localhost:8080/"
        },
        "id": "R8TDrm9wzZke",
        "outputId": "40304f7e-55ba-4a42-c9f4-41e654f408b8"
      },
      "outputs": [
        {
          "output_type": "execute_result",
          "data": {
            "text/plain": [
              "<All keys matched successfully>"
            ]
          },
          "metadata": {},
          "execution_count": 21
        }
      ],
      "source": [
        "thief_model.load_state_dict(state)"
      ]
    },
    {
      "cell_type": "code",
      "execution_count": null,
      "metadata": {
        "id": "8mmY_D7WME-D"
      },
      "outputs": [],
      "source": [
        "thief_model.new_fc=nn.Linear(in_features=2048, out_features=400, bias=True) # defining last layer as kinetics 400 dataset has 400 classes"
      ]
    },
    {
      "cell_type": "markdown",
      "source": [
        "**Storing Video path for training**"
      ],
      "metadata": {
        "id": "qKtoF22dF5qS"
      }
    },
    {
      "cell_type": "code",
      "execution_count": null,
      "metadata": {
        "colab": {
          "base_uri": "https://localhost:8080/"
        },
        "id": "2yYHAWCpAwsU",
        "outputId": "2a27fc9b-c82b-42cd-c1a9-a7d9dcfe7c12"
      },
      "outputs": [
        {
          "output_type": "stream",
          "name": "stderr",
          "text": [
            "100%|██████████| 400/400 [04:45<00:00,  1.40it/s]\n"
          ]
        }
      ],
      "source": [
        "video_path_train=[]\n",
        "labels_train=[]\n",
        "video_path_val=[]\n",
        "labels_val=[]\n",
        "for i in tqdm(range(400)):\n",
        "  dir=f'/content/drive/MyDrive/Kinetics 400/train/class-{i}'\n",
        "  for j,name in enumerate(os.listdir(dir)):\n",
        "    name=dir+str('/')+name\n",
        "    if(j<20):\n",
        "      video_path_train.append(name)\n",
        "      labels_train.append(i)\n",
        "    video_path_val.append(name)\n",
        "    labels_val.append(i)\n",
        "video_path_train=np.array(video_path_train)\n",
        "labels_train=np.array(labels_train)\n",
        "video_path_val=np.array(video_path_val)\n",
        "labels_val=np.array(labels_val)"
      ]
    },
    {
      "cell_type": "markdown",
      "source": [
        "**Creating dataset**"
      ],
      "metadata": {
        "id": "otGffxKCGIQP"
      }
    },
    {
      "cell_type": "code",
      "source": [
        "class Vid_Dataset(Dataset):\n",
        "    '''\n",
        "    creates dataset of videos from k400 folder\n",
        "    16 frames are extracted from each video\n",
        "    '''\n",
        "    def __init__(self,video_path,labels):\n",
        "        self.n_samples=labels.shape[0]\n",
        "        self.video_path=video_path\n",
        "        self.labels=labels\n",
        "    def __getitem__(self, index):\n",
        "        vid=cv2.VideoCapture(self.video_path[index])\n",
        "        array=[]\n",
        "        success = 1\n",
        "        count=0\n",
        "        cnt=0\n",
        "        length=(int(vid.get(cv2.CAP_PROP_FRAME_COUNT)))//16\n",
        "        while success:\n",
        "            success, image = vid.read()\n",
        "            count += 1\n",
        "            if(count%length==0 and cnt<16):\n",
        "                cnt+=1\n",
        "                array.append(np.array(image))\n",
        "        array=np.array(array)\n",
        "        array=array.astype('float32')\n",
        "        sample=(array,self.labels[index])\n",
        "        return sample\n",
        "    def __len__(self):\n",
        "        return self.n_samples"
      ],
      "metadata": {
        "id": "lqkeO8ScFbbE"
      },
      "execution_count": null,
      "outputs": []
    },
    {
      "cell_type": "code",
      "execution_count": null,
      "metadata": {
        "id": "-H90ACvjCEUv"
      },
      "outputs": [],
      "source": [
        "for params in thief_model.parameters():\n",
        "  params.requires_grad=False\n",
        "for params in thief_model.new_fc.parameters():\n",
        "  params.requires_grad=True"
      ]
    },
    {
      "cell_type": "code",
      "execution_count": null,
      "metadata": {
        "id": "0O83198OHYfb"
      },
      "outputs": [],
      "source": [
        "dataset1=Vid_Dataset(video_path_train,labels_train)\n",
        "dataset2=Vid_Dataset(video_path_val,labels_val)"
      ]
    },
    {
      "cell_type": "markdown",
      "source": [
        "**DataLoader**"
      ],
      "metadata": {
        "id": "UPVTcsV5HY1D"
      }
    },
    {
      "cell_type": "code",
      "execution_count": null,
      "metadata": {
        "id": "IozHIPv_JwpS"
      },
      "outputs": [],
      "source": [
        "train_loader=DataLoader(dataset=dataset1,batch_size=1,shuffle=True)\n",
        "val_loader=DataLoader(dataset=dataset2,batch_size=1,shuffle=True)"
      ]
    },
    {
      "cell_type": "code",
      "execution_count": null,
      "metadata": {
        "id": "syr05oZmL2LA"
      },
      "outputs": [],
      "source": [
        "device=torch.device('cuda:0')"
      ]
    },
    {
      "cell_type": "code",
      "execution_count": null,
      "metadata": {
        "id": "UEjdS_S2N1il"
      },
      "outputs": [],
      "source": [
        "theif_model=thief_model.to(device)"
      ]
    },
    {
      "cell_type": "markdown",
      "source": [
        "**Loss, Optimizer and Scheduler**"
      ],
      "metadata": {
        "id": "NbNLalLzIxk-"
      }
    },
    {
      "cell_type": "code",
      "execution_count": null,
      "metadata": {
        "id": "TImlGS0zLVtM"
      },
      "outputs": [],
      "source": [
        "criteria= nn.CrossEntropyLoss()\n",
        "optimizer = torch.optim.SGD(thief_model.parameters(),lr=1e-3,momentum=0.9)\n",
        "decay_scheduler=torch.optim.lr_scheduler.ReduceLROnPlateau(optimizer, mode='min', factor=0.1, patience=3, threshold=0.0001, threshold_mode='rel', cooldown=0, min_lr=0, eps=1e-08, verbose=False)\n"
      ]
    },
    {
      "cell_type": "markdown",
      "source": [
        "**Test loop**"
      ],
      "metadata": {
        "id": "qPD8w00UI5Mv"
      }
    },
    {
      "cell_type": "code",
      "source": [
        "def test(model):\n",
        "  thief_model.eval()\n",
        "  with torch.no_grad():\n",
        "    cnt=0\n",
        "    num=0\n",
        "    for inputs,labels in (val_loader):\n",
        "      try:\n",
        "        inputs=np.squeeze(inputs)\n",
        "        inputs=inputs.permute(3,0,1,2)\n",
        "        inputs=inputs.to(device)\n",
        "  \n",
        "        labels=labels.to(device)\n",
        "        out=model(inputs,no_reshape=True)\n",
        "        _,pred=torch.max(out,axis=1)\n",
        "        if(int(pred.item())==labels):\n",
        "          cnt+=1\n",
        "        num+=1\n",
        "      except:\n",
        "        continue\n",
        "      print(f'Validation Accuracy: {(cnt/num)*100}')"
      ],
      "metadata": {
        "id": "gdK2oGztl1Es"
      },
      "execution_count": null,
      "outputs": []
    },
    {
      "cell_type": "markdown",
      "source": [
        "**Train Loop**"
      ],
      "metadata": {
        "id": "rRq4viAgJBdY"
      }
    },
    {
      "cell_type": "code",
      "execution_count": null,
      "metadata": {
        "id": "tgdh_6M7M7em"
      },
      "outputs": [],
      "source": [
        "def train(model,criteria,optimizer,decay_scheduler,num_epochs):\n",
        "  thief_model.train()\n",
        "  for i in range(num_epochs):\n",
        "    epoch_loss=0\n",
        "    num=0\n",
        "    print(f\"XXXXXXXXXXXXXXXXXX EPOCH-{i} XXXXXXXXXXXXXXXXXXX\")\n",
        "    for inputs,labels in (train_loader):\n",
        "      inputs=np.squeeze(inputs)\n",
        "      inputs=inputs.permute(3,0,1,2)\n",
        "      inputs=inputs.to(device)\n",
        "      labels=labels.to(device)\n",
        "      out=model(inputs,no_reshape=True)\n",
        "      loss=criteria(out,labels)\n",
        "\n",
        "      optimizer.zero_grad()\n",
        "      loss.backward()\n",
        "      optimizer.step()\n",
        "      if(num%20==0):\n",
        "        print(loss.item())\n",
        "      num+=1\n",
        "      epoch_loss+=loss.item()\n",
        "      \n",
        "    state={\n",
        "        'model':model,\n",
        "        'state_dict': model.state_dict(),\n",
        "        'optimizer': optimizer.state_dict()\n",
        "    }\n",
        "    torch.save(state,f'/content/checkpoints/check-{i}')\n",
        "    test(model)\n",
        "    print(epoch_loss/num)\n",
        "    scheduler.step(epoch_loss)\n",
        "\n",
        "  return model"
      ]
    },
    {
      "cell_type": "markdown",
      "source": [
        "**Training**"
      ],
      "metadata": {
        "id": "UYjRWwbwJHYX"
      }
    },
    {
      "cell_type": "code",
      "execution_count": null,
      "metadata": {
        "id": "Ny3sUs2WOe37",
        "outputId": "bd751330-a3cd-43e4-f484-323822f77db6",
        "colab": {
          "base_uri": "https://localhost:8080/"
        }
      },
      "outputs": [
        {
          "output_type": "stream",
          "name": "stdout",
          "text": [
            "XXXXXXXXXXXXXXXXXX EPOCH-0 XXXXXXXXXXXXXXXXXXX\n",
            "6.0033183097839355\n",
            "5.361715793609619\n",
            "6.677215099334717\n",
            "6.650633811950684\n",
            "6.68340539932251\n"
          ]
        }
      ],
      "source": [
        "thief=train(thief_model,criteria,optimizer,decay_scheduler,20)"
      ]
    },
    {
      "cell_type": "code",
      "source": [
        ""
      ],
      "metadata": {
        "id": "rvWxJ18ZtIpo"
      },
      "execution_count": null,
      "outputs": []
    }
  ],
  "metadata": {
    "accelerator": "GPU",
    "colab": {
      "collapsed_sections": [],
      "name": "train_k_400.ipynb",
      "provenance": []
    },
    "kernelspec": {
      "display_name": "Python 3",
      "name": "python3"
    },
    "language_info": {
      "name": "python"
    },
    "widgets": {
      "application/vnd.jupyter.widget-state+json": {
        "83a00386f71348a98db30819071ce6bb": {
          "model_module": "@jupyter-widgets/controls",
          "model_name": "HBoxModel",
          "model_module_version": "1.5.0",
          "state": {
            "_dom_classes": [],
            "_model_module": "@jupyter-widgets/controls",
            "_model_module_version": "1.5.0",
            "_model_name": "HBoxModel",
            "_view_count": null,
            "_view_module": "@jupyter-widgets/controls",
            "_view_module_version": "1.5.0",
            "_view_name": "HBoxView",
            "box_style": "",
            "children": [
              "IPY_MODEL_2e0b2fd3d4854976b1b1ec7c0854abec",
              "IPY_MODEL_f98b675ee2ae46de8029cd0bc209226d",
              "IPY_MODEL_9bb6ac3baaa94f31b4ae50dff65e39c2"
            ],
            "layout": "IPY_MODEL_475e46ff6ebb45558c6b7454d5580ca9"
          }
        },
        "2e0b2fd3d4854976b1b1ec7c0854abec": {
          "model_module": "@jupyter-widgets/controls",
          "model_name": "HTMLModel",
          "model_module_version": "1.5.0",
          "state": {
            "_dom_classes": [],
            "_model_module": "@jupyter-widgets/controls",
            "_model_module_version": "1.5.0",
            "_model_name": "HTMLModel",
            "_view_count": null,
            "_view_module": "@jupyter-widgets/controls",
            "_view_module_version": "1.5.0",
            "_view_name": "HTMLView",
            "description": "",
            "description_tooltip": null,
            "layout": "IPY_MODEL_11deb79a887941f79a6525f98e4b1be3",
            "placeholder": "​",
            "style": "IPY_MODEL_3507db67645e403294e0824cf2e40d97",
            "value": "100%"
          }
        },
        "f98b675ee2ae46de8029cd0bc209226d": {
          "model_module": "@jupyter-widgets/controls",
          "model_name": "FloatProgressModel",
          "model_module_version": "1.5.0",
          "state": {
            "_dom_classes": [],
            "_model_module": "@jupyter-widgets/controls",
            "_model_module_version": "1.5.0",
            "_model_name": "FloatProgressModel",
            "_view_count": null,
            "_view_module": "@jupyter-widgets/controls",
            "_view_module_version": "1.5.0",
            "_view_name": "ProgressView",
            "bar_style": "success",
            "description": "",
            "description_tooltip": null,
            "layout": "IPY_MODEL_f60d13bf47bc4c9ca8de4d32bae21959",
            "max": 178728960,
            "min": 0,
            "orientation": "horizontal",
            "style": "IPY_MODEL_00c2bb070b844b57834a145c3a33caed",
            "value": 178728960
          }
        },
        "9bb6ac3baaa94f31b4ae50dff65e39c2": {
          "model_module": "@jupyter-widgets/controls",
          "model_name": "HTMLModel",
          "model_module_version": "1.5.0",
          "state": {
            "_dom_classes": [],
            "_model_module": "@jupyter-widgets/controls",
            "_model_module_version": "1.5.0",
            "_model_name": "HTMLModel",
            "_view_count": null,
            "_view_module": "@jupyter-widgets/controls",
            "_view_module_version": "1.5.0",
            "_view_name": "HTMLView",
            "description": "",
            "description_tooltip": null,
            "layout": "IPY_MODEL_cca73f8d80ae4813a609a2b832c50e3d",
            "placeholder": "​",
            "style": "IPY_MODEL_1d34dfa79f434086b5d8f4ef9b664d01",
            "value": " 170M/170M [08:22&lt;00:00, 350kB/s]"
          }
        },
        "475e46ff6ebb45558c6b7454d5580ca9": {
          "model_module": "@jupyter-widgets/base",
          "model_name": "LayoutModel",
          "model_module_version": "1.2.0",
          "state": {
            "_model_module": "@jupyter-widgets/base",
            "_model_module_version": "1.2.0",
            "_model_name": "LayoutModel",
            "_view_count": null,
            "_view_module": "@jupyter-widgets/base",
            "_view_module_version": "1.2.0",
            "_view_name": "LayoutView",
            "align_content": null,
            "align_items": null,
            "align_self": null,
            "border": null,
            "bottom": null,
            "display": null,
            "flex": null,
            "flex_flow": null,
            "grid_area": null,
            "grid_auto_columns": null,
            "grid_auto_flow": null,
            "grid_auto_rows": null,
            "grid_column": null,
            "grid_gap": null,
            "grid_row": null,
            "grid_template_areas": null,
            "grid_template_columns": null,
            "grid_template_rows": null,
            "height": null,
            "justify_content": null,
            "justify_items": null,
            "left": null,
            "margin": null,
            "max_height": null,
            "max_width": null,
            "min_height": null,
            "min_width": null,
            "object_fit": null,
            "object_position": null,
            "order": null,
            "overflow": null,
            "overflow_x": null,
            "overflow_y": null,
            "padding": null,
            "right": null,
            "top": null,
            "visibility": null,
            "width": null
          }
        },
        "11deb79a887941f79a6525f98e4b1be3": {
          "model_module": "@jupyter-widgets/base",
          "model_name": "LayoutModel",
          "model_module_version": "1.2.0",
          "state": {
            "_model_module": "@jupyter-widgets/base",
            "_model_module_version": "1.2.0",
            "_model_name": "LayoutModel",
            "_view_count": null,
            "_view_module": "@jupyter-widgets/base",
            "_view_module_version": "1.2.0",
            "_view_name": "LayoutView",
            "align_content": null,
            "align_items": null,
            "align_self": null,
            "border": null,
            "bottom": null,
            "display": null,
            "flex": null,
            "flex_flow": null,
            "grid_area": null,
            "grid_auto_columns": null,
            "grid_auto_flow": null,
            "grid_auto_rows": null,
            "grid_column": null,
            "grid_gap": null,
            "grid_row": null,
            "grid_template_areas": null,
            "grid_template_columns": null,
            "grid_template_rows": null,
            "height": null,
            "justify_content": null,
            "justify_items": null,
            "left": null,
            "margin": null,
            "max_height": null,
            "max_width": null,
            "min_height": null,
            "min_width": null,
            "object_fit": null,
            "object_position": null,
            "order": null,
            "overflow": null,
            "overflow_x": null,
            "overflow_y": null,
            "padding": null,
            "right": null,
            "top": null,
            "visibility": null,
            "width": null
          }
        },
        "3507db67645e403294e0824cf2e40d97": {
          "model_module": "@jupyter-widgets/controls",
          "model_name": "DescriptionStyleModel",
          "model_module_version": "1.5.0",
          "state": {
            "_model_module": "@jupyter-widgets/controls",
            "_model_module_version": "1.5.0",
            "_model_name": "DescriptionStyleModel",
            "_view_count": null,
            "_view_module": "@jupyter-widgets/base",
            "_view_module_version": "1.2.0",
            "_view_name": "StyleView",
            "description_width": ""
          }
        },
        "f60d13bf47bc4c9ca8de4d32bae21959": {
          "model_module": "@jupyter-widgets/base",
          "model_name": "LayoutModel",
          "model_module_version": "1.2.0",
          "state": {
            "_model_module": "@jupyter-widgets/base",
            "_model_module_version": "1.2.0",
            "_model_name": "LayoutModel",
            "_view_count": null,
            "_view_module": "@jupyter-widgets/base",
            "_view_module_version": "1.2.0",
            "_view_name": "LayoutView",
            "align_content": null,
            "align_items": null,
            "align_self": null,
            "border": null,
            "bottom": null,
            "display": null,
            "flex": null,
            "flex_flow": null,
            "grid_area": null,
            "grid_auto_columns": null,
            "grid_auto_flow": null,
            "grid_auto_rows": null,
            "grid_column": null,
            "grid_gap": null,
            "grid_row": null,
            "grid_template_areas": null,
            "grid_template_columns": null,
            "grid_template_rows": null,
            "height": null,
            "justify_content": null,
            "justify_items": null,
            "left": null,
            "margin": null,
            "max_height": null,
            "max_width": null,
            "min_height": null,
            "min_width": null,
            "object_fit": null,
            "object_position": null,
            "order": null,
            "overflow": null,
            "overflow_x": null,
            "overflow_y": null,
            "padding": null,
            "right": null,
            "top": null,
            "visibility": null,
            "width": null
          }
        },
        "00c2bb070b844b57834a145c3a33caed": {
          "model_module": "@jupyter-widgets/controls",
          "model_name": "ProgressStyleModel",
          "model_module_version": "1.5.0",
          "state": {
            "_model_module": "@jupyter-widgets/controls",
            "_model_module_version": "1.5.0",
            "_model_name": "ProgressStyleModel",
            "_view_count": null,
            "_view_module": "@jupyter-widgets/base",
            "_view_module_version": "1.2.0",
            "_view_name": "StyleView",
            "bar_color": null,
            "description_width": ""
          }
        },
        "cca73f8d80ae4813a609a2b832c50e3d": {
          "model_module": "@jupyter-widgets/base",
          "model_name": "LayoutModel",
          "model_module_version": "1.2.0",
          "state": {
            "_model_module": "@jupyter-widgets/base",
            "_model_module_version": "1.2.0",
            "_model_name": "LayoutModel",
            "_view_count": null,
            "_view_module": "@jupyter-widgets/base",
            "_view_module_version": "1.2.0",
            "_view_name": "LayoutView",
            "align_content": null,
            "align_items": null,
            "align_self": null,
            "border": null,
            "bottom": null,
            "display": null,
            "flex": null,
            "flex_flow": null,
            "grid_area": null,
            "grid_auto_columns": null,
            "grid_auto_flow": null,
            "grid_auto_rows": null,
            "grid_column": null,
            "grid_gap": null,
            "grid_row": null,
            "grid_template_areas": null,
            "grid_template_columns": null,
            "grid_template_rows": null,
            "height": null,
            "justify_content": null,
            "justify_items": null,
            "left": null,
            "margin": null,
            "max_height": null,
            "max_width": null,
            "min_height": null,
            "min_width": null,
            "object_fit": null,
            "object_position": null,
            "order": null,
            "overflow": null,
            "overflow_x": null,
            "overflow_y": null,
            "padding": null,
            "right": null,
            "top": null,
            "visibility": null,
            "width": null
          }
        },
        "1d34dfa79f434086b5d8f4ef9b664d01": {
          "model_module": "@jupyter-widgets/controls",
          "model_name": "DescriptionStyleModel",
          "model_module_version": "1.5.0",
          "state": {
            "_model_module": "@jupyter-widgets/controls",
            "_model_module_version": "1.5.0",
            "_model_name": "DescriptionStyleModel",
            "_view_count": null,
            "_view_module": "@jupyter-widgets/base",
            "_view_module_version": "1.2.0",
            "_view_name": "StyleView",
            "description_width": ""
          }
        }
      }
    }
  },
  "nbformat": 4,
  "nbformat_minor": 0
}